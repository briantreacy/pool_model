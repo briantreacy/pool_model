{
 "cells": [
  {
   "cell_type": "code",
   "execution_count": 1,
   "id": "ec0137ed",
   "metadata": {},
   "outputs": [],
   "source": [
    "import numpy as np\n",
    "import matplotlib.pyplot as plt\n",
    "from scipy.integrate import solve_ivp\n",
    "import math\n",
    "from ipywidgets import interact, interactive, fixed, interact_manual\n",
    "import ipywidgets as widgets\n",
    "\n",
    "class SEIR:\n",
    "    \n",
    "    def __init__(self, R0, N, t_E, t_I, t_linspace):\n",
    "        \n",
    "        self.N = N\n",
    "        self.sigma = 1 / t_E\n",
    "        self.gamma = 1 / t_I\n",
    "        self.R0 = R0\n",
    "        self.beta = R0 / (N * t_I)\n",
    "        self.t_linspace = t_linspace\n",
    "        self.sol = self.generate_solution().y\n",
    "        self.r = self.generate_r()\n",
    "        \n",
    "    def fun(self, t, y):\n",
    "        \n",
    "        S, E, I, R = y\n",
    "        \n",
    "        d_S_dt = - self.beta * S * I\n",
    "        d_E_dt = self.beta * S * I - self.sigma * E\n",
    "        d_I_dt = self.sigma * E - self.gamma * I\n",
    "        d_R_dt = self.gamma * I \n",
    "        \n",
    "        dydt = [d_S_dt, d_E_dt, d_I_dt, d_R_dt]\n",
    "        \n",
    "        return dydt\n",
    "    \n",
    "    def generate_solution(self, y0 = None, method = 'LSODA'):\n",
    "        \n",
    "        # This generates a solution over a linear time space t_linspace\n",
    "        \n",
    "        if y0 == None:\n",
    "            y0 = [self.N - 1, 1, 0, 0]\n",
    "        \n",
    "        t0, tf = self.t_linspace[0], self.t_linspace[-1]\n",
    "        \n",
    "        return solve_ivp(self.fun, (t0, tf), y0, method, t_eval = self.t_linspace)\n",
    "\n",
    "    def S(self):\n",
    "        \n",
    "        return self.sol[0]\n",
    "    \n",
    "    def E(self):\n",
    "        \n",
    "        return self.sol[1]\n",
    "    \n",
    "    def I(self):\n",
    "        \n",
    "        return self.sol[2]\n",
    "    \n",
    "    def R(self):\n",
    "        \n",
    "        return self.sol[3]\n",
    "        \n",
    "    def generate_r(self):\n",
    "        \n",
    "        return (1/2) * (- (self.sigma + self.gamma) + np.sqrt((self.sigma + self.gamma)** 2 + 4 * self.sigma * (self.beta * self.N - self.gamma)))\n",
    "    \n",
    "    def E_proportion_infected_population_limiting(self):\n",
    "        \n",
    "        return (self.gamma + self.r) / (self.sigma + self.gamma + self.r)\n",
    "    \n",
    "    \n",
    "    def I_proportion_infected_population_limiting(self):\n",
    "        \n",
    "        return (self.sigma) / (self.sigma + self.gamma + self.r)"
   ]
  },
  {
   "cell_type": "code",
   "execution_count": 2,
   "id": "04272ca3",
   "metadata": {},
   "outputs": [
    {
     "data": {
      "text/plain": [
       "0.3874258867227932"
      ]
     },
     "execution_count": 2,
     "metadata": {},
     "output_type": "execute_result"
    }
   ],
   "source": [
    "R0 = 3\n",
    "N = 8000000\n",
    "t_E, t_I = 1, 3\n",
    "t_linspace = np.linspace(0, 80, 100 * 100)\n",
    "\n",
    "\n",
    "SEIR_0 = SEIR(R0, N, t_E, t_I, t_linspace)\n",
    "\n",
    "SEIR_0.r\n"
   ]
  },
  {
   "cell_type": "code",
   "execution_count": 3,
   "id": "7ffd7248",
   "metadata": {},
   "outputs": [
    {
     "ename": "AttributeError",
     "evalue": "'SEIR' object has no attribute 'traj'",
     "output_type": "error",
     "traceback": [
      "\u001b[0;31m---------------------------------------------------------------------------\u001b[0m",
      "\u001b[0;31mAttributeError\u001b[0m                            Traceback (most recent call last)",
      "\u001b[0;32m<ipython-input-3-acd7a256676f>\u001b[0m in \u001b[0;36m<module>\u001b[0;34m\u001b[0m\n\u001b[1;32m      3\u001b[0m \u001b[0mfig\u001b[0m\u001b[0;34m,\u001b[0m \u001b[0maxes\u001b[0m \u001b[0;34m=\u001b[0m \u001b[0mplt\u001b[0m\u001b[0;34m.\u001b[0m\u001b[0msubplots\u001b[0m\u001b[0;34m(\u001b[0m\u001b[0;36m1\u001b[0m\u001b[0;34m,\u001b[0m \u001b[0;36m3\u001b[0m\u001b[0;34m,\u001b[0m \u001b[0mfigsize\u001b[0m \u001b[0;34m=\u001b[0m \u001b[0;34m(\u001b[0m\u001b[0;36m8\u001b[0m\u001b[0;34m,\u001b[0m \u001b[0;36m4\u001b[0m\u001b[0;34m)\u001b[0m\u001b[0;34m)\u001b[0m\u001b[0;34m\u001b[0m\u001b[0;34m\u001b[0m\u001b[0m\n\u001b[1;32m      4\u001b[0m \u001b[0;34m\u001b[0m\u001b[0m\n\u001b[0;32m----> 5\u001b[0;31m \u001b[0mE_proportion\u001b[0m \u001b[0;34m=\u001b[0m \u001b[0;34m[\u001b[0m\u001b[0mE\u001b[0m \u001b[0;34m/\u001b[0m \u001b[0;34m(\u001b[0m\u001b[0mE\u001b[0m \u001b[0;34m+\u001b[0m \u001b[0mI\u001b[0m\u001b[0;34m)\u001b[0m \u001b[0;32mfor\u001b[0m \u001b[0;34m(\u001b[0m\u001b[0mE\u001b[0m\u001b[0;34m,\u001b[0m \u001b[0mI\u001b[0m\u001b[0;34m)\u001b[0m \u001b[0;32min\u001b[0m \u001b[0mzip\u001b[0m\u001b[0;34m(\u001b[0m\u001b[0mSEIR_0\u001b[0m\u001b[0;34m.\u001b[0m\u001b[0mtraj\u001b[0m\u001b[0;34m(\u001b[0m\u001b[0;34m\"E\"\u001b[0m\u001b[0;34m,\u001b[0m \u001b[0msol\u001b[0m\u001b[0;34m)\u001b[0m\u001b[0;34m,\u001b[0m \u001b[0mSEIR_0\u001b[0m\u001b[0;34m.\u001b[0m\u001b[0mtraj\u001b[0m\u001b[0;34m(\u001b[0m\u001b[0;34m\"I\"\u001b[0m\u001b[0;34m,\u001b[0m \u001b[0msol\u001b[0m\u001b[0;34m)\u001b[0m\u001b[0;34m)\u001b[0m\u001b[0;34m]\u001b[0m\u001b[0;34m\u001b[0m\u001b[0;34m\u001b[0m\u001b[0m\n\u001b[0m\u001b[1;32m      6\u001b[0m \u001b[0mI_proportion\u001b[0m \u001b[0;34m=\u001b[0m \u001b[0;34m[\u001b[0m\u001b[0mI\u001b[0m \u001b[0;34m/\u001b[0m \u001b[0;34m(\u001b[0m\u001b[0mE\u001b[0m \u001b[0;34m+\u001b[0m \u001b[0mI\u001b[0m\u001b[0;34m)\u001b[0m \u001b[0;32mfor\u001b[0m \u001b[0;34m(\u001b[0m\u001b[0mE\u001b[0m\u001b[0;34m,\u001b[0m \u001b[0mI\u001b[0m\u001b[0;34m)\u001b[0m \u001b[0;32min\u001b[0m \u001b[0mzip\u001b[0m\u001b[0;34m(\u001b[0m\u001b[0mSEIR_0\u001b[0m\u001b[0;34m.\u001b[0m\u001b[0mtraj\u001b[0m\u001b[0;34m(\u001b[0m\u001b[0;34m\"E\"\u001b[0m\u001b[0;34m,\u001b[0m \u001b[0msol\u001b[0m\u001b[0;34m)\u001b[0m\u001b[0;34m,\u001b[0m \u001b[0mSEIR_0\u001b[0m\u001b[0;34m.\u001b[0m\u001b[0mtraj\u001b[0m\u001b[0;34m(\u001b[0m\u001b[0;34m\"I\"\u001b[0m\u001b[0;34m,\u001b[0m \u001b[0msol\u001b[0m\u001b[0;34m)\u001b[0m\u001b[0;34m)\u001b[0m\u001b[0;34m]\u001b[0m\u001b[0;34m\u001b[0m\u001b[0;34m\u001b[0m\u001b[0m\n\u001b[1;32m      7\u001b[0m \u001b[0;34m\u001b[0m\u001b[0m\n",
      "\u001b[0;31mAttributeError\u001b[0m: 'SEIR' object has no attribute 'traj'"
     ]
    },
    {
     "data": {
      "image/png": "[encoded data removed]",
      "text/plain": [
       "<Figure size 576x288 with 3 Axes>"
      ]
     },
     "metadata": {
      "needs_background": "light"
     },
     "output_type": "display_data"
    }
   ],
   "source": [
    "# Plots of the proportion of the infected population that is latent or infectious \n",
    "\n",
    "fig, axes = plt.subplots(1, 3, figsize = (8, 4))\n",
    "\n",
    "E_proportion = [E / (E + I) for (E, I) in zip(SEIR_0.traj(\"E\", sol), SEIR_0.traj(\"I\", sol))]\n",
    "I_proportion = [I / (E + I) for (E, I) in zip(SEIR_0.traj(\"E\", sol), SEIR_0.traj(\"I\", sol))]\n",
    "\n",
    "r = SEIR_0.r(beta, N, sigma, gamma)\n",
    "\n",
    "# p_E and p_I are the proportions of the infected population that are latent and infectious according to \n",
    "# the renewal equation approach\n",
    "\n",
    "p_E = (gamma + r) / (sigma + gamma + r)\n",
    "p_I = (sigma) / (sigma + gamma + r)\n",
    "\n",
    "\n",
    "# Plot of the proportion of E(t) / (E(t) + I(t))\n",
    "axes[0].plot(t_linspace, E_proportion)\n",
    "axes[0].set_title(\"% of E + I that is E \")\n",
    "axes[0].scatter(17, p_E, label = r\"$p_E$\")\n",
    "\n",
    "# Plot of the proportion of I(t) / (E(t) + I(t))\n",
    "\n",
    "axes[1].plot(t_linspace, I_proportion)\n",
    "axes[1].set_title(\"% of E + I that is I\")\n",
    "axes[1].scatter(17, p_I, label = r\"$p_I$\")\n",
    "\n",
    "# Plot of the trajectory E(t) + I(t) to show when exponential growth is happening\n",
    "\n",
    "axes[2].plot(t_linspace, [E + I for (E,I) in zip(SEIR_0.traj(\"E\", sol), SEIR_0.traj(\"I\", sol))])\n",
    "axes[2].set_title(\"E(t) + I(t)\")\n",
    "\n",
    "fig.savefig(\"Images/proof_proportions_E_I.png\", dpi = 600)\n",
    "\n",
    "\n",
    "plt.tight_layout()\n",
    "plt.show()"
   ]
  },
  {
   "cell_type": "code",
   "execution_count": 4,
   "id": "244776ff",
   "metadata": {},
   "outputs": [
    {
     "data": {
      "application/vnd.jupyter.widget-view+json": {
       "model_id": "269c1374a7634c8e93704b091ae5359a",
       "version_major": 2,
       "version_minor": 0
      },
      "text/plain": [
       "interactive(children=(FloatSlider(value=2.0, description='R0', max=3.0, min=1.1), FloatSlider(value=1.5, descr…"
      ]
     },
     "metadata": {},
     "output_type": "display_data"
    },
    {
     "data": {
      "text/plain": [
       "<function __main__.interact_plot_E_I_proportion_infected_population(R0, t_E, t_I)>"
      ]
     },
     "execution_count": 4,
     "metadata": {},
     "output_type": "execute_result"
    }
   ],
   "source": [
    "# Plot interactive graph of the proportions of the infected population that are E and I\n",
    "\n",
    "def interact_plot_E_I_proportion_infected_population(R0, t_E, t_I):\n",
    "    \n",
    "    N = 8000000\n",
    "    t_linspace = np.linspace(0, 80, 100 * 100)\n",
    "    \n",
    "    SEIR_interact = SEIR(R0, N, t_E, t_I, t_linspace)\n",
    "    \n",
    "    fig, ax = plt.subplots()\n",
    "    \n",
    "    ax.plot(t_linspace, [E / (E + I) for (E, I) in zip(SEIR_interact.E(), SEIR_interact.I())], label = \"E\", color = 'blue')\n",
    "    ax.scatter(2, SEIR_interact.E_proportion_infected_population_limiting(), label = r\"$p_E$\", color = \"blue\")\n",
    "    ax.plot(t_linspace, [I / (E + I) for (E, I) in zip(SEIR_interact.E(), SEIR_interact.I())], label = \"I\", color = 'red')\n",
    "    ax.scatter(2, SEIR_interact.I_proportion_infected_population_limiting(), label = r\"$p_I$\", color = \"red\")\n",
    "    \n",
    "    ax.set_title(\"Plots of the proportion of E+I that is E and I\")\n",
    "    ax.legend()\n",
    "    plt.show()\n",
    "    \n",
    "interact(interact_plot_E_I_proportion_infected_population,\n",
    "        R0 = (1.1, 3, 0.1),\n",
    "        t_E = (0.5, 3, 0.5),\n",
    "        t_I = (0.5, 3, 0.5))\n",
    "    "
   ]
  },
  {
   "cell_type": "code",
   "execution_count": 3,
   "id": "db1e43d9",
   "metadata": {},
   "outputs": [
    {
     "data": {
      "text/plain": [
       "1.4142135623730951"
      ]
     },
     "execution_count": 3,
     "metadata": {},
     "output_type": "execute_result"
    }
   ],
   "source": [
    "np.sqrt(2)"
   ]
  },
  {
   "cell_type": "code",
   "execution_count": null,
   "id": "724e1c19",
   "metadata": {},
   "outputs": [],
   "source": []
  }
 ],
 "metadata": {
  "kernelspec": {
   "display_name": "Python 3",
   "language": "python",
   "name": "python3"
  },
  "language_info": {
   "codemirror_mode": {
    "name": "ipython",
    "version": 3
   },
   "file_extension": ".py",
   "mimetype": "text/x-python",
   "name": "python",
   "nbconvert_exporter": "python",
   "pygments_lexer": "ipython3",
   "version": "3.8.8"
  }
 },
 "nbformat": 4,
 "nbformat_minor": 5
}
