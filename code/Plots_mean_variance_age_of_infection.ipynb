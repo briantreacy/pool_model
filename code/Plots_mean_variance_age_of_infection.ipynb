{
 "cells": [
  {
   "cell_type": "code",
   "execution_count": 1,
   "id": "6a7aebad",
   "metadata": {},
   "outputs": [],
   "source": [
    "import numpy as np\n",
    "import matplotlib.pyplot as plt\n"
   ]
  },
  {
   "cell_type": "code",
   "execution_count": 39,
   "id": "ad59d213",
   "metadata": {},
   "outputs": [
    {
     "data": {
      "image/png": "[encoded data removed]",
      "text/plain": [
       "<Figure size 432x288 with 2 Axes>"
      ]
     },
     "metadata": {
      "needs_background": "light"
     },
     "output_type": "display_data"
    }
   ],
   "source": [
    "# Plots of the mean age of infection of the limiting distribution for varying r and t_I values\n",
    "\n",
    "fig, axes = plt.subplots(1, 2)\n",
    "\n",
    "mean_age_of_infection = lambda r, t_I: t_I / (1 + r * t_I)\n",
    "std_age_of_infection = lambda r, t_I: t_I / (1 + r * t_I)\n",
    "\n",
    "# Plot the mean age-of-infection with varying r values and fixed t_I\n",
    "\n",
    "r_vals = np.linspace(0, 1, 20 * 10)\n",
    "t_I_fixed = 3\n",
    "\n",
    "mean_age_of_infection_varying_r = [mean_age_of_infection(r, t_I_fixed) for r in r_vals]\n",
    "axes[0].plot(r_vals, mean_age_of_infection_varying_r, color = 'deepskyblue')\n",
    "\n",
    "# Plot the mean age-of-infection +- std for varying r\n",
    "\n",
    "mean_plus_std_age_of_infection_varying_r = [mean_age_of_infection(r, t_I_fixed) + std_age_of_infection(r, t_I_fixed) for r in r_vals]\n",
    "mean_minus_std_age_of_infection_varying_r = [mean_age_of_infection(r, t_I_fixed) - std_age_of_infection(r, t_I_fixed) for r in r_vals]\n",
    "\n",
    "axes[0].plot(r_vals, mean_plus_std_age_of_infection_varying_r, color = 'lightblue')\n",
    "axes[0].plot(r_vals, mean_minus_std_age_of_infection_varying_r, color = 'lightblue')\n",
    "\n",
    "axes[0].fill_between(r_vals, mean_plus_std_age_of_infection_varying_r, mean_minus_std_age_of_infection_varying_r, color='lightblue', alpha=0.3, zorder=-1)\n",
    "\n",
    "axes[0].set_title(r\"$\\bar{\\tau}(\\infty)$ with $t_I = $\" + str(t_I_fixed) )\n",
    "axes[0].set_xlabel(\"r\")\n",
    "axes[0].set_ylabel(r\"$\\tau$\", rotation = 0)\n",
    "\n",
    "# Plot the mean age-of-infection with varying t_I values and fixed r\n",
    "\n",
    "t_I_vals = np.linspace(0, 20, 20 * 10)\n",
    "r_fixed = 0.166\n",
    "\n",
    "mean_age_of_infection_varying_t_I = [mean_age_of_infection(r_fixed, t_I) for t_I in t_I_vals]\n",
    "axes[1].plot(t_I_vals, mean_age_of_infection_varying_t_I, color = 'red')\n",
    "\n",
    "# Plot the mean age-of-infection +- std for varying t_I\n",
    "\n",
    "mean_plus_std_age_of_infection_varying_t_I = [mean_age_of_infection(r_fixed, t_I) + std_age_of_infection(r_fixed, t_I) for t_I in t_I_vals]\n",
    "mean_minus_std_age_of_infection_varying_t_I = [mean_age_of_infection(r_fixed, t_I) - std_age_of_infection(r_fixed, t_I) for t_I in t_I_vals]\n",
    "\n",
    "axes[1].plot(t_I_vals, mean_plus_std_age_of_infection_varying_t_I, color = 'lightcoral')\n",
    "axes[1].plot(t_I_vals, mean_minus_std_age_of_infection_varying_t_I, color = 'lightcoral')\n",
    "\n",
    "axes[1].fill_between(t_I_vals, mean_plus_std_age_of_infection_varying_t_I, mean_minus_std_age_of_infection_varying_t_I, color='lightcoral', alpha=0.3, zorder=-1)\n",
    "\n",
    "axes[1].set_title(r\"$\\bar{\\tau}(\\infty)$ with $r = $\" + str(r_fixed) )\n",
    "axes[1].set_xlabel(r\"$t_I$\")\n",
    "axes[1].set_ylabel(r\"$\\tau$\", rotation = 0)\n",
    "\n",
    "\n",
    "#filename = \"../Images/mean_variance_age_of_infection_r_fixed_\" + str(r_fixed) + \"t_I_fixed_\" + str(t_I_fixed) + \".png\"\n",
    "plt.savefig(filename, dpi=1200)\n",
    "plt.show()"
   ]
  },
  {
   "cell_type": "code",
   "execution_count": 13,
   "id": "06f2fa9d",
   "metadata": {},
   "outputs": [
    {
     "data": {
      "text/plain": [
       "[0, 1, 2, -2, -1, 0]"
      ]
     },
     "execution_count": 13,
     "metadata": {},
     "output_type": "execute_result"
    }
   ],
   "source": [
    "a = [x for x in range(0, 3)]\n",
    "b = [x for x in range(-2, 1)]\n"
   ]
  },
  {
   "cell_type": "code",
   "execution_count": null,
   "id": "bf25311e",
   "metadata": {},
   "outputs": [],
   "source": []
  }
 ],
 "metadata": {
  "kernelspec": {
   "display_name": "Python 3",
   "language": "python",
   "name": "python3"
  },
  "language_info": {
   "codemirror_mode": {
    "name": "ipython",
    "version": 3
   },
   "file_extension": ".py",
   "mimetype": "text/x-python",
   "name": "python",
   "nbconvert_exporter": "python",
   "pygments_lexer": "ipython3",
   "version": "3.8.8"
  }
 },
 "nbformat": 4,
 "nbformat_minor": 5
}
