{
 "cells": [
  {
   "cell_type": "code",
   "execution_count": 1,
   "id": "4c3e899f",
   "metadata": {
    "code_folding": [
     31,
     44,
     55,
     59,
     63,
     67,
     71
    ]
   },
   "outputs": [],
   "source": [
    "import numpy as np\n",
    "import matplotlib.pyplot as plt\n",
    "from scipy.integrate import solve_ivp\n",
    "import math\n",
    "from ipywidgets import interact, interactive, fixed, interact_manual\n",
    "import ipywidgets as widgets\n",
    "\n",
    "class Parameters_SEIR_mu_testing:\n",
    "    \n",
    "    def __init__(self, beta, N, t_E, t_I, mu, t_linspace):\n",
    "    \n",
    "        self.N = N\n",
    "        self.sigma = 1 / t_E\n",
    "        self.gamma = 1 / t_I\n",
    "        self.mu = mu\n",
    "        self.beta = beta\n",
    "        self.t_linspace = t_linspace    \n",
    "\n",
    "class SEIR_mu_testing:\n",
    "    \n",
    "    def __init__(self, param_obj):\n",
    "        \n",
    "        self.N = param_obj.N\n",
    "        self.sigma = param_obj.sigma\n",
    "        self.gamma = param_obj.gamma\n",
    "        self.mu = param_obj.mu\n",
    "        self.beta = param_obj.beta\n",
    "        self.t_linspace = param_obj.t_linspace \n",
    "        self.sol = self.generate_solution(param_obj).y\n",
    "        \n",
    "    def fun(self, t, y, beta, sigma, gamma, mu):\n",
    "        \n",
    "        S, E, I, R = y\n",
    "        \n",
    "        d_S_dt = - beta * S * I\n",
    "        d_E_dt = beta * S * I - (sigma + mu) * E\n",
    "        d_I_dt = sigma * E - (gamma + mu) * I\n",
    "        d_R_dt = gamma * I  + mu * (E + I)\n",
    "        \n",
    "        dydt = [d_S_dt, d_E_dt, d_I_dt, d_R_dt]\n",
    "        \n",
    "        return dydt\n",
    "    \n",
    "    def generate_solution(self, param_obj, y0 = None, method = 'LSODA'):\n",
    "        \n",
    "        # This generates a solution over a linear time space t_linspace\n",
    "        \n",
    "        if y0 == None:\n",
    "            y0 = [param_obj.N - 1, 1, 0, 0]\n",
    "        \n",
    "        \n",
    "        t0, tf = param_obj.t_linspace[0], param_obj.t_linspace[-1]\n",
    "        \n",
    "        return solve_ivp(self.fun, (t0, tf), y0, method, t_eval = param_obj.t_linspace, args = (param_obj.beta, param_obj.sigma, param_obj.gamma, param_obj.mu))\n",
    "\n",
    "    def S(self):\n",
    "        \n",
    "        return self.sol[0]\n",
    "    \n",
    "    def E(self):\n",
    "        \n",
    "        return self.sol[1]\n",
    "    \n",
    "    def I(self):\n",
    "        \n",
    "        return self.sol[2]\n",
    "    \n",
    "    def R(self):\n",
    "        \n",
    "        return self.sol[3]\n",
    "    \n",
    "    def testing_reproductive_number(self, beta, N, sigma, gamma, mu):\n",
    "        \n",
    "        return sigma * gamma / ( (sigma + mu) * (gamma + mu) )\n",
    "        "
   ]
  },
  {
   "cell_type": "code",
   "execution_count": 2,
   "id": "f9dbadff",
   "metadata": {},
   "outputs": [],
   "source": [
    "R0 = 3\n",
    "N = 8000000\n",
    "t_E, t_I = 1, 3\n",
    "mu = 0.01\n",
    "t_linspace = np.linspace(0, 80, 100 * 100)\n",
    "\n",
    "beta = R0 / (N * t_I)\n",
    "\n",
    "params_0 = Parameters_SEIR_mu_testing(beta, N, t_E, t_I, mu, t_linspace)\n",
    "SEIR_0 = SEIR_mu_testing(params_0)"
   ]
  },
  {
   "cell_type": "code",
   "execution_count": 11,
   "id": "8c9ec427",
   "metadata": {},
   "outputs": [
    {
     "data": {
      "application/vnd.jupyter.widget-view+json": {
       "model_id": "a5259c26663b42feb74ffc6caf516474",
       "version_major": 2,
       "version_minor": 0
      },
      "text/plain": [
       "interactive(children=(FloatSlider(value=0.15, description='mu', max=0.3, step=0.01), IntSlider(value=10, descr…"
      ]
     },
     "metadata": {},
     "output_type": "display_data"
    },
    {
     "data": {
      "text/plain": [
       "<function __main__.interact_plot_testing_reproductive_number(mu, T)>"
      ]
     },
     "execution_count": 11,
     "metadata": {},
     "output_type": "execute_result"
    }
   ],
   "source": [
    "# Interactive plot of the testing reproductive number vs mu\n",
    "\n",
    "# Plot interactive graph of the proportions of the infected population that are E and I\n",
    "\n",
    "R0 = 3\n",
    "\n",
    "def interact_plot_testing_reproductive_number(mu, T):\n",
    "    \n",
    "    N = 8000000\n",
    "    alpha_linspace = np.linspace(0.01, 0.99, 1000)\n",
    "    beta = R0 / (N * t_I)\n",
    "    \n",
    "    \n",
    "    mu_linspace = np.linspace(0, 0.5, 1000)\n",
    "    \n",
    "    testing_R0s = [R0 * SEIR_0.testing_reproductive_number(R0 / (N * (1 - alpha)* T), N, 1 / (alpha * T), 1 / ((1 - alpha) * T), mu) for alpha in alpha_linspace]\n",
    "    \n",
    "    fig, ax = plt.subplots()\n",
    "    ax.plot(mu_linspace, testing_R0s)\n",
    "    ax.set_ylim((0, 4))\n",
    "    ax.set_xlabel(r\"$\\alpha$\")\n",
    "    ax.set_title(r'Plot of $\\hat{\\mathbb{R}_0}$')\n",
    "    plt.show()\n",
    "    \n",
    "interact(interact_plot_testing_reproductive_number, mu = (0, 0.3, 0.01), T = (1, 20, 1))\n",
    "    "
   ]
  },
  {
   "cell_type": "code",
   "execution_count": 4,
   "id": "a397fb1e",
   "metadata": {},
   "outputs": [
    {
     "data": {
      "application/vnd.jupyter.widget-view+json": {
       "model_id": "9a3a787dd7334c6db688eb931051baf6",
       "version_major": 2,
       "version_minor": 0
      },
      "text/plain": [
       "interactive(children=(FloatSlider(value=0.5, description='alpha', max=0.99, min=0.01, step=0.01), IntSlider(va…"
      ]
     },
     "metadata": {},
     "output_type": "display_data"
    },
    {
     "data": {
      "text/plain": [
       "<function __main__.interact_plot_testing_reproductive_number(alpha, T)>"
      ]
     },
     "execution_count": 4,
     "metadata": {},
     "output_type": "execute_result"
    }
   ],
   "source": [
    "# Interactive plot of the testing reproductive number vs mu\n",
    "\n",
    "# Plot interactive graph of the proportions of the infected population that are E and I\n",
    "\n",
    "R0 = 3\n",
    "\n",
    "def interact_plot_testing_reproductive_number(alpha, T):\n",
    "    \n",
    "    N = 8000000\n",
    "    t_linspace = np.linspace(0, 200, 100 * 100)\n",
    "    t_E = alpha * T\n",
    "    t_I = (1 - alpha) * T\n",
    "    beta = R0 / (N * t_I)\n",
    "    \n",
    "    \n",
    "    mu_linspace = np.linspace(0, 0.5, 1000)\n",
    "    \n",
    "    testing_R0s = [R0 * SEIR_0.testing_reproductive_number(beta, N, 1 / t_E, 1 / t_I, mu) for mu in mu_linspace]\n",
    "    \n",
    "    fig, ax = plt.subplots()\n",
    "    ax.plot(mu_linspace, testing_R0s)\n",
    "    ax.set_ylim((0, 3))\n",
    "    plt.show()\n",
    "    \n",
    "interact(interact_plot_testing_reproductive_number, alpha = (0.01, 0.99, 0.01), T = (1, 20, 1))\n",
    "    "
   ]
  },
  {
   "cell_type": "code",
   "execution_count": null,
   "id": "7fa4977b",
   "metadata": {},
   "outputs": [],
   "source": []
  }
 ],
 "metadata": {
  "kernelspec": {
   "display_name": "Python 3",
   "language": "python",
   "name": "python3"
  },
  "language_info": {
   "codemirror_mode": {
    "name": "ipython",
    "version": 3
   },
   "file_extension": ".py",
   "mimetype": "text/x-python",
   "name": "python",
   "nbconvert_exporter": "python",
   "pygments_lexer": "ipython3",
   "version": "3.8.8"
  }
 },
 "nbformat": 4,
 "nbformat_minor": 5
}
